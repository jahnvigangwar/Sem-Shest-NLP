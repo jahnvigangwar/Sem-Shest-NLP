{
  "nbformat": 4,
  "nbformat_minor": 0,
  "metadata": {
    "colab": {
      "provenance": []
    },
    "kernelspec": {
      "name": "python3",
      "display_name": "Python 3"
    },
    "language_info": {
      "name": "python"
    }
  },
  "cells": [
    {
      "cell_type": "code",
      "execution_count": null,
      "metadata": {
        "id": "QFfaUz7BQber"
      },
      "outputs": [],
      "source": [
        "#Text Classification-sentiment analysis\n",
        "#concept of validation set\n",
        "#Overfitting\n",
        "#L2 Regularization and Dropout Regularization\n",
        "#Transfer learning"
      ]
    },
    {
      "cell_type": "code",
      "source": [
        "#import libraries\n",
        "import pandas as pd\n",
        "import numpy as np\n",
        "\n",
        "import tensorflow as tf\n",
        "from tensorflow import keras\n",
        "import tensorflow_hub as hub\n",
        "\n",
        "import re\n",
        "import string\n",
        "\n",
        "from sklearn.preprocessing import LabelEncoder\n",
        "from sklearn.model_selection import train_test_split\n",
        "\n",
        "import matplotlib.pyplot as plt\n",
        " "
      ],
      "metadata": {
        "id": "bkyjCvlWSFlw"
      },
      "execution_count": null,
      "outputs": []
    },
    {
      "cell_type": "code",
      "source": [
        "#Load the dataset\n",
        "train_data=pd.read_csv('/content/drive/MyDrive/sentiment_dataset/train.csv')\n",
        "test_data=pd.read_csv('/content/drive/MyDrive/sentiment_dataset/test.csv')"
      ],
      "metadata": {
        "id": "pHWFUMy3SvrN"
      },
      "execution_count": null,
      "outputs": []
    },
    {
      "cell_type": "code",
      "source": [
        "#Remove null values from each row\n",
        "train_data.dropna(axis=0,how='any',inplace=True)\n",
        "test_data.dropna(axis=0,how='any',inplace=True)"
      ],
      "metadata": {
        "id": "41IHwiaPTN5V"
      },
      "execution_count": null,
      "outputs": []
    },
    {
      "cell_type": "code",
      "source": [
        "#Remove rows with less than 3 words\n",
        "train_data['num_words']=train_data['text'].apply(lambda x: len(str(x).split()))\n",
        "mask=train_data['num_words']>2\n",
        "train_data=train_data[mask]\n",
        "\n",
        "test_data['num_words']=test_data['text'].apply(lambda x: len(str(x).split()))\n",
        "mask=test_data['num_words']>2\n",
        "test_data=test_data[mask]"
      ],
      "metadata": {
        "id": "P9o9897XTxt-"
      },
      "execution_count": null,
      "outputs": []
    },
    {
      "cell_type": "code",
      "source": [
        "#Pre-processing: Remove emoji's,flags, symbols, urls,digits, special characters, etc.\n",
        "def remove_emoji(text):\n",
        "    emoji_pattern = re.compile(\"[\"\n",
        "                           u\"\\U0001F600-\\U0001F64F\"  # emoticons\n",
        "                           u\"\\U0001F300-\\U0001F5FF\"  # symbols & pictographs\n",
        "                           u\"\\U0001F680-\\U0001F6FF\"  # transport & map symbols\n",
        "                           u\"\\U0001F1E0-\\U0001F1FF\"  # flags (iOS)\n",
        "                           u\"\\U00002702-\\U000027B0\"\n",
        "                           u\"\\U000024C2-\\U0001F251\"\n",
        "                           \"]+\", flags=re.UNICODE)\n",
        "    return emoji_pattern.sub(r'', str(text))\n",
        "\n",
        "def remove_url(text): \n",
        "    url_pattern  = re.compile('http[s]?://(?:[a-zA-Z]|[0-9]|[$-_@.&+]|[!*\\(\\),]|(?:%[0-9a-fA-F][0-9a-fA-F]))+')\n",
        "    return url_pattern.sub(r'', text)\n",
        " # converting return value from list to string\n",
        "\n",
        "\n",
        "def clean_text(text ): \n",
        "    delete_dict = {sp_character: '' for sp_character in string.punctuation} \n",
        "    delete_dict[' '] = ' ' \n",
        "    table = str.maketrans(delete_dict)\n",
        "    text1 = str(text).translate(table)\n",
        "    #print('cleaned:'+text1)\n",
        "    textArr= str(text1).split()\n",
        "    text2 = ' '.join([w for w in textArr if ( not w.isdigit() and  ( not w.isdigit() and len(w)>3))]) \n",
        "    \n",
        "    return text2.lower()\n",
        "\n"
      ],
      "metadata": {
        "id": "4IqZN21cURBo"
      },
      "execution_count": null,
      "outputs": []
    },
    {
      "cell_type": "code",
      "source": [
        "#Applying pre-processing functions of training and test data\n",
        "train_data['text']=train_data['text'].apply(remove_emoji)\n",
        "train_data['text']=train_data['text'].apply(remove_url)\n",
        "train_data['text']=train_data['text'].apply(clean_text)\n",
        "\n",
        "test_data['text']=test_data['text'].apply(remove_emoji)\n",
        "test_data['text']=test_data['text'].apply(remove_url)\n",
        "test_data['text']=test_data['text'].apply(clean_text)\n"
      ],
      "metadata": {
        "id": "cvROGCB6U0kd"
      },
      "execution_count": null,
      "outputs": []
    },
    {
      "cell_type": "code",
      "source": [
        "#Splitting training data into train and validation set\n",
        "train_x,valid_x,train_y,valid_y=train_test_split(train_data['text'].tolist(),train_data['sentiment'].tolist(),random_state=0,test_size=0.33,stratify=train_data['sentiment'].tolist())"
      ],
      "metadata": {
        "id": "a3lHyEycVNRe"
      },
      "execution_count": null,
      "outputs": []
    },
    {
      "cell_type": "code",
      "source": [
        "#Converting sentiments to numerical labels and then applying categorical encoding\n",
        "le=LabelEncoder()\n",
        "train_y=le.fit_transform(train_y)\n",
        "train_y=keras.utils.to_categorical(train_y)\n",
        "train_y[:1]\n",
        "valid_y=le.transform(valid_y)\n",
        "valid_y=keras.utils.to_categorical(valid_y)\n",
        "\n",
        "test_y=le.transform(test_data['sentiment'].tolist())\n",
        "test_y=keras.utils.to_categorical(test_y)"
      ],
      "metadata": {
        "id": "nbgU5u9CWQIp"
      },
      "execution_count": null,
      "outputs": []
    },
    {
      "cell_type": "code",
      "source": [
        "train_x=np.array(train_x)\n",
        "valid_x=np.array(valid_x)\n",
        "test_x=np.array(test_data['text'].tolist())"
      ],
      "metadata": {
        "id": "7x3gxF4WXXSI"
      },
      "execution_count": null,
      "outputs": []
    },
    {
      "cell_type": "code",
      "source": [
        "#Converting x and y arrays into tensor datasets\n",
        "train_ds=tf.data.Dataset.from_tensor_slices((train_x,train_y))\n",
        "valid_ds=tf.data.Dataset.from_tensor_slices((valid_x,valid_y))\n",
        "test_ds=tf.data.Dataset.from_tensor_slices((test_x,test_y))"
      ],
      "metadata": {
        "id": "XVVvXt4eXxH7"
      },
      "execution_count": null,
      "outputs": []
    },
    {
      "cell_type": "code",
      "source": [
        "#Importing pre-trained word vectors from tensorflow hub\n",
        "embedding='https://tfhub.dev/google/tf2-preview/gnews-swivel-20dim-with-oov/1'\n",
        "hub_layer=hub.KerasLayer(embedding,trainable=True,input_shape=[],dtype=tf.string)"
      ],
      "metadata": {
        "id": "Su5OIeUwYNqN"
      },
      "execution_count": null,
      "outputs": []
    },
    {
      "cell_type": "code",
      "source": [
        "print(train_x[0])"
      ],
      "metadata": {
        "colab": {
          "base_uri": "https://localhost:8080/"
        },
        "id": "RdXlRpMaaZz-",
        "outputId": "b77b5f4c-ca7d-4694-d416-706112155900"
      },
      "execution_count": null,
      "outputs": [
        {
          "output_type": "stream",
          "name": "stdout",
          "text": [
            "just getting additional free\n"
          ]
        }
      ]
    },
    {
      "cell_type": "code",
      "source": [
        "hub_layer(train_x[:1])"
      ],
      "metadata": {
        "colab": {
          "base_uri": "https://localhost:8080/"
        },
        "id": "yYomBI4iaeW0",
        "outputId": "c8cd30b0-89a1-41f4-8dda-79b57f3bb87e"
      },
      "execution_count": null,
      "outputs": [
        {
          "output_type": "execute_result",
          "data": {
            "text/plain": [
              "<tf.Tensor: shape=(1, 20), dtype=float32, numpy=\n",
              "array([[ 0.02252544, -1.102936  , -0.45312536,  1.1712923 , -0.9280152 ,\n",
              "        -1.6799717 , -0.03097978, -0.04522766, -0.69689393, -0.3546787 ,\n",
              "        -0.9819268 ,  1.3606595 , -0.7599448 ,  0.05979407, -0.71509284,\n",
              "         0.48663723,  1.3430784 , -1.0147772 ,  0.13958323, -0.14541228]],\n",
              "      dtype=float32)>"
            ]
          },
          "metadata": {},
          "execution_count": 16
        }
      ]
    },
    {
      "cell_type": "code",
      "source": [
        "#Create a sequential Neural Network\n",
        "model=keras.Sequential()\n",
        "model.add(hub_layer)\n",
        "model.add(keras.layers.Dense(10,activation='relu'))\n",
        "model.add(keras.layers.Dense(3,activation='sigmoid'))"
      ],
      "metadata": {
        "id": "B9ppa2P3ah55"
      },
      "execution_count": null,
      "outputs": []
    },
    {
      "cell_type": "code",
      "source": [
        "model.summary()"
      ],
      "metadata": {
        "colab": {
          "base_uri": "https://localhost:8080/"
        },
        "id": "PBEYWjy-blv0",
        "outputId": "d2d7e421-a410-4f85-869a-fba7a4507a53"
      },
      "execution_count": null,
      "outputs": [
        {
          "output_type": "stream",
          "name": "stdout",
          "text": [
            "Model: \"sequential\"\n",
            "_________________________________________________________________\n",
            " Layer (type)                Output Shape              Param #   \n",
            "=================================================================\n",
            " keras_layer (KerasLayer)    (None, 20)                389380    \n",
            "                                                                 \n",
            " dense (Dense)               (None, 10)                210       \n",
            "                                                                 \n",
            " dense_1 (Dense)             (None, 3)                 33        \n",
            "                                                                 \n",
            "=================================================================\n",
            "Total params: 389,623\n",
            "Trainable params: 389,623\n",
            "Non-trainable params: 0\n",
            "_________________________________________________________________\n"
          ]
        }
      ]
    },
    {
      "cell_type": "code",
      "source": [
        "#Compile model-define loss function, accuracy, optimizer\n",
        "model.compile(loss=keras.losses.CategoricalCrossentropy(from_logits=True),\n",
        "              metrics=['CategoricalAccuracy'],\n",
        "              optimizer='adam')"
      ],
      "metadata": {
        "id": "uMlPF0XYbn1q"
      },
      "execution_count": null,
      "outputs": []
    },
    {
      "cell_type": "code",
      "source": [
        "#Training neural network\n",
        "history=model.fit(train_ds.batch(128),\n",
        "          epochs=20,\n",
        "          validation_data=valid_ds.batch(128))"
      ],
      "metadata": {
        "colab": {
          "base_uri": "https://localhost:8080/"
        },
        "id": "8NAIW1ztcV8j",
        "outputId": "80e81fca-eb0f-4511-e70c-cbb55812ff5f"
      },
      "execution_count": null,
      "outputs": [
        {
          "output_type": "stream",
          "name": "stdout",
          "text": [
            "Epoch 1/20\n"
          ]
        },
        {
          "output_type": "stream",
          "name": "stderr",
          "text": [
            "/usr/local/lib/python3.7/dist-packages/tensorflow/python/util/dispatch.py:1082: UserWarning: \"`categorical_crossentropy` received `from_logits=True`, but the `output` argument was produced by a sigmoid or softmax activation and thus does not represent logits. Was this intended?\"\n",
            "  return dispatch_target(*args, **kwargs)\n"
          ]
        },
        {
          "output_type": "stream",
          "name": "stdout",
          "text": [
            "141/141 [==============================] - 3s 15ms/step - loss: 1.1741 - categorical_accuracy: 0.3669 - val_loss: 1.0840 - val_categorical_accuracy: 0.4280\n",
            "Epoch 2/20\n",
            "141/141 [==============================] - 2s 14ms/step - loss: 1.0435 - categorical_accuracy: 0.4856 - val_loss: 1.0080 - val_categorical_accuracy: 0.5139\n",
            "Epoch 3/20\n",
            "141/141 [==============================] - 2s 14ms/step - loss: 0.9590 - categorical_accuracy: 0.5494 - val_loss: 0.9372 - val_categorical_accuracy: 0.5565\n",
            "Epoch 4/20\n",
            "141/141 [==============================] - 2s 13ms/step - loss: 0.8826 - categorical_accuracy: 0.6000 - val_loss: 0.8860 - val_categorical_accuracy: 0.5911\n",
            "Epoch 5/20\n",
            "141/141 [==============================] - 2s 12ms/step - loss: 0.8187 - categorical_accuracy: 0.6405 - val_loss: 0.8501 - val_categorical_accuracy: 0.6128\n",
            "Epoch 6/20\n",
            "141/141 [==============================] - 2s 14ms/step - loss: 0.7673 - categorical_accuracy: 0.6723 - val_loss: 0.8287 - val_categorical_accuracy: 0.6249\n",
            "Epoch 7/20\n",
            "141/141 [==============================] - 2s 13ms/step - loss: 0.7273 - categorical_accuracy: 0.6954 - val_loss: 0.8178 - val_categorical_accuracy: 0.6362\n",
            "Epoch 8/20\n",
            "141/141 [==============================] - 2s 14ms/step - loss: 0.6955 - categorical_accuracy: 0.7123 - val_loss: 0.8140 - val_categorical_accuracy: 0.6429\n",
            "Epoch 9/20\n",
            "141/141 [==============================] - 2s 13ms/step - loss: 0.6689 - categorical_accuracy: 0.7249 - val_loss: 0.8146 - val_categorical_accuracy: 0.6440\n",
            "Epoch 10/20\n",
            "141/141 [==============================] - 2s 14ms/step - loss: 0.6460 - categorical_accuracy: 0.7374 - val_loss: 0.8183 - val_categorical_accuracy: 0.6462\n",
            "Epoch 11/20\n",
            "141/141 [==============================] - 2s 13ms/step - loss: 0.6258 - categorical_accuracy: 0.7486 - val_loss: 0.8241 - val_categorical_accuracy: 0.6448\n",
            "Epoch 12/20\n",
            "141/141 [==============================] - 2s 13ms/step - loss: 0.6074 - categorical_accuracy: 0.7582 - val_loss: 0.8315 - val_categorical_accuracy: 0.6436\n",
            "Epoch 13/20\n",
            "141/141 [==============================] - 2s 14ms/step - loss: 0.5904 - categorical_accuracy: 0.7671 - val_loss: 0.8400 - val_categorical_accuracy: 0.6433\n",
            "Epoch 14/20\n",
            "141/141 [==============================] - 2s 12ms/step - loss: 0.5746 - categorical_accuracy: 0.7743 - val_loss: 0.8498 - val_categorical_accuracy: 0.6425\n",
            "Epoch 15/20\n",
            "141/141 [==============================] - 2s 12ms/step - loss: 0.5599 - categorical_accuracy: 0.7806 - val_loss: 0.8608 - val_categorical_accuracy: 0.6419\n",
            "Epoch 16/20\n",
            "141/141 [==============================] - 2s 14ms/step - loss: 0.5462 - categorical_accuracy: 0.7882 - val_loss: 0.8728 - val_categorical_accuracy: 0.6410\n",
            "Epoch 17/20\n",
            "141/141 [==============================] - 2s 13ms/step - loss: 0.5333 - categorical_accuracy: 0.7942 - val_loss: 0.8851 - val_categorical_accuracy: 0.6390\n",
            "Epoch 18/20\n",
            "141/141 [==============================] - 2s 13ms/step - loss: 0.5212 - categorical_accuracy: 0.7993 - val_loss: 0.8981 - val_categorical_accuracy: 0.6384\n",
            "Epoch 19/20\n",
            "141/141 [==============================] - 2s 13ms/step - loss: 0.5097 - categorical_accuracy: 0.8052 - val_loss: 0.9113 - val_categorical_accuracy: 0.6389\n",
            "Epoch 20/20\n",
            "141/141 [==============================] - 2s 13ms/step - loss: 0.4991 - categorical_accuracy: 0.8104 - val_loss: 0.9255 - val_categorical_accuracy: 0.6359\n"
          ]
        }
      ]
    },
    {
      "cell_type": "code",
      "source": [
        "#ploting training and validation loss\n",
        "plt.plot(history.history['loss'],label='Training Data')\n",
        "plt.plot(history.history['val_loss'],label='Validation Data')\n",
        "plt.xlabel('Epochs')\n",
        "plt.ylabel('Loss')\n",
        "plt.legend(loc='upper left')\n",
        "plt.show()"
      ],
      "metadata": {
        "colab": {
          "base_uri": "https://localhost:8080/",
          "height": 281
        },
        "id": "sGR3C6LscmSP",
        "outputId": "29c8958c-cf5e-4855-e4f3-c46ba3dc6590"
      },
      "execution_count": null,
      "outputs": [
        {
          "output_type": "display_data",
          "data": {
            "text/plain": [
              "<Figure size 432x288 with 1 Axes>"
            ],
            "image/png": "[encoded data removed]"
          },
          "metadata": {
            "needs_background": "light"
          }
        }
      ]
    },
    {
      "cell_type": "code",
      "source": [
        "#ploting training and validation accuracy\n",
        "plt.plot(history.history['categorical_accuracy'],label='Training Data')\n",
        "plt.plot(history.history['val_categorical_accuracy'],label='Validation Data')\n",
        "plt.xlabel('Epochs')\n",
        "plt.ylabel('Accuracy')\n",
        "plt.legend(loc='upper left')\n",
        "plt.show()"
      ],
      "metadata": {
        "colab": {
          "base_uri": "https://localhost:8080/",
          "height": 279
        },
        "id": "XbjpMMvRdAbP",
        "outputId": "c8a08284-af93-46ab-f28d-124638d0fa21"
      },
      "execution_count": null,
      "outputs": [
        {
          "output_type": "display_data",
          "data": {
            "text/plain": [
              "<Figure size 432x288 with 1 Axes>"
            ],
            "image/png": "[encoded data removed]"
          },
          "metadata": {
            "needs_background": "light"
          }
        }
      ]
    },
    {
      "cell_type": "markdown",
      "source": [
        "CLearly, the model is overfitting"
      ],
      "metadata": {
        "id": "Z7RBc4dG-jkl"
      }
    },
    {
      "cell_type": "code",
      "source": [
        "#Handling overfitting using dropout, L2 regularization\n",
        "model1=keras.Sequential()\n",
        "model1.add(hub_layer)\n",
        "model1.add(keras.layers.Dropout(0.5))\n",
        "model1.add(keras.layers.Dense(10,activation='relu',kernel_regularizer=keras.regularizers.l2(0.05)))\n",
        "model1.add(keras.layers.Dropout(0.5))\n",
        "model1.add(keras.layers.Dense(3,activation='sigmoid',kernel_regularizer=keras.regularizers.l2(0.05)))\n"
      ],
      "metadata": {
        "id": "cZsudw39daZD"
      },
      "execution_count": null,
      "outputs": []
    },
    {
      "cell_type": "code",
      "source": [
        "model1.summary()"
      ],
      "metadata": {
        "colab": {
          "base_uri": "https://localhost:8080/"
        },
        "id": "DZ5O7a7wgx-v",
        "outputId": "2d279f8a-7778-4ab5-9107-c2dd9d38e407"
      },
      "execution_count": null,
      "outputs": [
        {
          "output_type": "stream",
          "name": "stdout",
          "text": [
            "Model: \"sequential_3\"\n",
            "_________________________________________________________________\n",
            " Layer (type)                Output Shape              Param #   \n",
            "=================================================================\n",
            " keras_layer (KerasLayer)    (None, 20)                389380    \n",
            "                                                                 \n",
            " dropout_4 (Dropout)         (None, 20)                0         \n",
            "                                                                 \n",
            " dense_6 (Dense)             (None, 10)                210       \n",
            "                                                                 \n",
            " dropout_5 (Dropout)         (None, 10)                0         \n",
            "                                                                 \n",
            " dense_7 (Dense)             (None, 3)                 33        \n",
            "                                                                 \n",
            "=================================================================\n",
            "Total params: 389,623\n",
            "Trainable params: 389,623\n",
            "Non-trainable params: 0\n",
            "_________________________________________________________________\n"
          ]
        }
      ]
    },
    {
      "cell_type": "code",
      "source": [
        "model1.compile(loss=keras.losses.CategoricalCrossentropy(from_logits=True),\n",
        "               metrics=['CategoricalAccuracy'],\n",
        "               optimizer='adam')"
      ],
      "metadata": {
        "id": "UZ9DhvQvhjTB"
      },
      "execution_count": null,
      "outputs": []
    },
    {
      "cell_type": "code",
      "source": [
        "history1=model1.fit(train_ds.shuffle(1000).batch(128),\n",
        "          epochs=60,\n",
        "          validation_data=valid_ds.batch(128))"
      ],
      "metadata": {
        "colab": {
          "base_uri": "https://localhost:8080/"
        },
        "id": "YxpRv_SHg2z2",
        "outputId": "6f1d156d-5814-45ec-dc65-8352f44a2bec"
      },
      "execution_count": null,
      "outputs": [
        {
          "output_type": "stream",
          "name": "stdout",
          "text": [
            "Epoch 1/60\n",
            "141/141 [==============================] - 2s 13ms/step - loss: 1.4202 - categorical_accuracy: 0.4226 - val_loss: 1.2791 - val_categorical_accuracy: 0.4763\n",
            "Epoch 2/60\n",
            "141/141 [==============================] - 2s 12ms/step - loss: 1.2362 - categorical_accuracy: 0.4589 - val_loss: 1.1620 - val_categorical_accuracy: 0.5086\n",
            "Epoch 3/60\n",
            "141/141 [==============================] - 1s 9ms/step - loss: 1.1404 - categorical_accuracy: 0.4891 - val_loss: 1.0958 - val_categorical_accuracy: 0.5318\n",
            "Epoch 4/60\n",
            "141/141 [==============================] - 1s 9ms/step - loss: 1.0969 - categorical_accuracy: 0.4926 - val_loss: 1.0608 - val_categorical_accuracy: 0.5394\n",
            "Epoch 5/60\n",
            "141/141 [==============================] - 2s 11ms/step - loss: 1.0653 - categorical_accuracy: 0.5107 - val_loss: 1.0402 - val_categorical_accuracy: 0.5400\n",
            "Epoch 6/60\n",
            "141/141 [==============================] - 1s 9ms/step - loss: 1.0508 - categorical_accuracy: 0.5189 - val_loss: 1.0237 - val_categorical_accuracy: 0.5551\n",
            "Epoch 7/60\n",
            "141/141 [==============================] - 1s 9ms/step - loss: 1.0380 - categorical_accuracy: 0.5237 - val_loss: 1.0107 - val_categorical_accuracy: 0.5554\n",
            "Epoch 8/60\n",
            "141/141 [==============================] - 1s 9ms/step - loss: 1.0257 - categorical_accuracy: 0.5328 - val_loss: 0.9990 - val_categorical_accuracy: 0.5549\n",
            "Epoch 9/60\n",
            "141/141 [==============================] - 1s 9ms/step - loss: 1.0124 - categorical_accuracy: 0.5426 - val_loss: 0.9893 - val_categorical_accuracy: 0.5662\n",
            "Epoch 10/60\n",
            "141/141 [==============================] - 2s 15ms/step - loss: 1.0055 - categorical_accuracy: 0.5485 - val_loss: 0.9835 - val_categorical_accuracy: 0.5645\n",
            "Epoch 11/60\n",
            "141/141 [==============================] - 2s 14ms/step - loss: 0.9973 - categorical_accuracy: 0.5496 - val_loss: 0.9758 - val_categorical_accuracy: 0.5722\n",
            "Epoch 12/60\n",
            "141/141 [==============================] - 2s 15ms/step - loss: 0.9929 - categorical_accuracy: 0.5554 - val_loss: 0.9696 - val_categorical_accuracy: 0.5779\n",
            "Epoch 13/60\n",
            "141/141 [==============================] - 2s 18ms/step - loss: 0.9866 - categorical_accuracy: 0.5618 - val_loss: 0.9633 - val_categorical_accuracy: 0.5915\n",
            "Epoch 14/60\n",
            "141/141 [==============================] - 2s 14ms/step - loss: 0.9788 - categorical_accuracy: 0.5719 - val_loss: 0.9588 - val_categorical_accuracy: 0.6000\n",
            "Epoch 15/60\n",
            "141/141 [==============================] - 2s 17ms/step - loss: 0.9749 - categorical_accuracy: 0.5712 - val_loss: 0.9533 - val_categorical_accuracy: 0.5993\n",
            "Epoch 16/60\n",
            "141/141 [==============================] - 2s 15ms/step - loss: 0.9681 - categorical_accuracy: 0.5747 - val_loss: 0.9489 - val_categorical_accuracy: 0.6037\n",
            "Epoch 17/60\n",
            "141/141 [==============================] - 2s 13ms/step - loss: 0.9633 - categorical_accuracy: 0.5824 - val_loss: 0.9439 - val_categorical_accuracy: 0.6249\n",
            "Epoch 18/60\n",
            "141/141 [==============================] - 2s 15ms/step - loss: 0.9572 - categorical_accuracy: 0.5796 - val_loss: 0.9413 - val_categorical_accuracy: 0.6175\n",
            "Epoch 19/60\n",
            "141/141 [==============================] - 2s 14ms/step - loss: 0.9537 - categorical_accuracy: 0.5894 - val_loss: 0.9393 - val_categorical_accuracy: 0.6209\n",
            "Epoch 20/60\n",
            "141/141 [==============================] - 3s 18ms/step - loss: 0.9466 - categorical_accuracy: 0.5919 - val_loss: 0.9337 - val_categorical_accuracy: 0.6280\n",
            "Epoch 21/60\n",
            "141/141 [==============================] - 2s 14ms/step - loss: 0.9436 - categorical_accuracy: 0.5954 - val_loss: 0.9320 - val_categorical_accuracy: 0.6271\n",
            "Epoch 22/60\n",
            "141/141 [==============================] - 2s 15ms/step - loss: 0.9390 - categorical_accuracy: 0.5993 - val_loss: 0.9292 - val_categorical_accuracy: 0.6309\n",
            "Epoch 23/60\n",
            "141/141 [==============================] - 2s 16ms/step - loss: 0.9399 - categorical_accuracy: 0.6011 - val_loss: 0.9273 - val_categorical_accuracy: 0.6348\n",
            "Epoch 24/60\n",
            "141/141 [==============================] - 2s 14ms/step - loss: 0.9366 - categorical_accuracy: 0.6072 - val_loss: 0.9253 - val_categorical_accuracy: 0.6337\n",
            "Epoch 25/60\n",
            "141/141 [==============================] - 3s 19ms/step - loss: 0.9301 - categorical_accuracy: 0.6102 - val_loss: 0.9223 - val_categorical_accuracy: 0.6372\n",
            "Epoch 26/60\n",
            "141/141 [==============================] - 3s 19ms/step - loss: 0.9231 - categorical_accuracy: 0.6152 - val_loss: 0.9189 - val_categorical_accuracy: 0.6411\n",
            "Epoch 27/60\n",
            "141/141 [==============================] - 3s 19ms/step - loss: 0.9236 - categorical_accuracy: 0.6169 - val_loss: 0.9177 - val_categorical_accuracy: 0.6414\n",
            "Epoch 28/60\n",
            "141/141 [==============================] - 2s 13ms/step - loss: 0.9250 - categorical_accuracy: 0.6121 - val_loss: 0.9181 - val_categorical_accuracy: 0.6437\n",
            "Epoch 29/60\n",
            "141/141 [==============================] - 2s 14ms/step - loss: 0.9151 - categorical_accuracy: 0.6243 - val_loss: 0.9133 - val_categorical_accuracy: 0.6467\n",
            "Epoch 30/60\n",
            "141/141 [==============================] - 2s 13ms/step - loss: 0.9131 - categorical_accuracy: 0.6260 - val_loss: 0.9119 - val_categorical_accuracy: 0.6484\n",
            "Epoch 31/60\n",
            "141/141 [==============================] - 2s 14ms/step - loss: 0.9093 - categorical_accuracy: 0.6262 - val_loss: 0.9102 - val_categorical_accuracy: 0.6459\n",
            "Epoch 32/60\n",
            "141/141 [==============================] - 2s 13ms/step - loss: 0.9119 - categorical_accuracy: 0.6206 - val_loss: 0.9087 - val_categorical_accuracy: 0.6488\n",
            "Epoch 33/60\n",
            "141/141 [==============================] - 1s 9ms/step - loss: 0.9033 - categorical_accuracy: 0.6320 - val_loss: 0.9067 - val_categorical_accuracy: 0.6508\n",
            "Epoch 34/60\n",
            "141/141 [==============================] - 1s 10ms/step - loss: 0.9032 - categorical_accuracy: 0.6332 - val_loss: 0.9053 - val_categorical_accuracy: 0.6508\n",
            "Epoch 35/60\n",
            "141/141 [==============================] - 1s 9ms/step - loss: 0.8951 - categorical_accuracy: 0.6422 - val_loss: 0.9044 - val_categorical_accuracy: 0.6509\n",
            "Epoch 36/60\n",
            "141/141 [==============================] - 2s 14ms/step - loss: 0.8982 - categorical_accuracy: 0.6359 - val_loss: 0.9022 - val_categorical_accuracy: 0.6518\n",
            "Epoch 37/60\n",
            "141/141 [==============================] - 2s 14ms/step - loss: 0.8945 - categorical_accuracy: 0.6439 - val_loss: 0.9015 - val_categorical_accuracy: 0.6539\n",
            "Epoch 38/60\n",
            "141/141 [==============================] - 2s 15ms/step - loss: 0.8928 - categorical_accuracy: 0.6422 - val_loss: 0.9006 - val_categorical_accuracy: 0.6528\n",
            "Epoch 39/60\n",
            "141/141 [==============================] - 2s 14ms/step - loss: 0.8897 - categorical_accuracy: 0.6436 - val_loss: 0.8984 - val_categorical_accuracy: 0.6544\n",
            "Epoch 40/60\n",
            "141/141 [==============================] - 2s 14ms/step - loss: 0.8923 - categorical_accuracy: 0.6428 - val_loss: 0.8973 - val_categorical_accuracy: 0.6543\n",
            "Epoch 41/60\n",
            "141/141 [==============================] - 2s 14ms/step - loss: 0.8879 - categorical_accuracy: 0.6440 - val_loss: 0.8960 - val_categorical_accuracy: 0.6542\n",
            "Epoch 42/60\n",
            "141/141 [==============================] - 2s 13ms/step - loss: 0.8846 - categorical_accuracy: 0.6475 - val_loss: 0.8947 - val_categorical_accuracy: 0.6561\n",
            "Epoch 43/60\n",
            "141/141 [==============================] - 2s 15ms/step - loss: 0.8861 - categorical_accuracy: 0.6496 - val_loss: 0.8944 - val_categorical_accuracy: 0.6551\n",
            "Epoch 44/60\n",
            "141/141 [==============================] - 2s 14ms/step - loss: 0.8815 - categorical_accuracy: 0.6539 - val_loss: 0.8927 - val_categorical_accuracy: 0.6564\n",
            "Epoch 45/60\n",
            "141/141 [==============================] - 2s 11ms/step - loss: 0.8767 - categorical_accuracy: 0.6544 - val_loss: 0.8912 - val_categorical_accuracy: 0.6567\n",
            "Epoch 46/60\n",
            "141/141 [==============================] - 1s 10ms/step - loss: 0.8745 - categorical_accuracy: 0.6619 - val_loss: 0.8917 - val_categorical_accuracy: 0.6568\n",
            "Epoch 47/60\n",
            "141/141 [==============================] - 1s 9ms/step - loss: 0.8772 - categorical_accuracy: 0.6570 - val_loss: 0.8906 - val_categorical_accuracy: 0.6566\n",
            "Epoch 48/60\n",
            "141/141 [==============================] - 1s 10ms/step - loss: 0.8729 - categorical_accuracy: 0.6540 - val_loss: 0.8901 - val_categorical_accuracy: 0.6564\n",
            "Epoch 49/60\n",
            "141/141 [==============================] - 1s 10ms/step - loss: 0.8743 - categorical_accuracy: 0.6599 - val_loss: 0.8877 - val_categorical_accuracy: 0.6574\n",
            "Epoch 50/60\n",
            "141/141 [==============================] - 2s 11ms/step - loss: 0.8709 - categorical_accuracy: 0.6602 - val_loss: 0.8877 - val_categorical_accuracy: 0.6577\n",
            "Epoch 51/60\n",
            "141/141 [==============================] - 1s 10ms/step - loss: 0.8667 - categorical_accuracy: 0.6619 - val_loss: 0.8865 - val_categorical_accuracy: 0.6586\n",
            "Epoch 52/60\n",
            "141/141 [==============================] - 1s 10ms/step - loss: 0.8649 - categorical_accuracy: 0.6620 - val_loss: 0.8856 - val_categorical_accuracy: 0.6599\n",
            "Epoch 53/60\n",
            "141/141 [==============================] - 1s 10ms/step - loss: 0.8643 - categorical_accuracy: 0.6644 - val_loss: 0.8865 - val_categorical_accuracy: 0.6559\n",
            "Epoch 54/60\n",
            "141/141 [==============================] - 2s 13ms/step - loss: 0.8645 - categorical_accuracy: 0.6641 - val_loss: 0.8858 - val_categorical_accuracy: 0.6559\n",
            "Epoch 55/60\n",
            "141/141 [==============================] - 1s 10ms/step - loss: 0.8598 - categorical_accuracy: 0.6689 - val_loss: 0.8842 - val_categorical_accuracy: 0.6589\n",
            "Epoch 56/60\n",
            "141/141 [==============================] - 1s 10ms/step - loss: 0.8606 - categorical_accuracy: 0.6664 - val_loss: 0.8838 - val_categorical_accuracy: 0.6585\n",
            "Epoch 57/60\n",
            "141/141 [==============================] - 1s 10ms/step - loss: 0.8602 - categorical_accuracy: 0.6702 - val_loss: 0.8837 - val_categorical_accuracy: 0.6586\n",
            "Epoch 58/60\n",
            "141/141 [==============================] - 1s 10ms/step - loss: 0.8566 - categorical_accuracy: 0.6715 - val_loss: 0.8835 - val_categorical_accuracy: 0.6572\n",
            "Epoch 59/60\n",
            "141/141 [==============================] - 1s 10ms/step - loss: 0.8553 - categorical_accuracy: 0.6718 - val_loss: 0.8821 - val_categorical_accuracy: 0.6587\n",
            "Epoch 60/60\n",
            "141/141 [==============================] - 1s 10ms/step - loss: 0.8529 - categorical_accuracy: 0.6741 - val_loss: 0.8823 - val_categorical_accuracy: 0.6583\n"
          ]
        }
      ]
    },
    {
      "cell_type": "code",
      "source": [
        "plt.plot(history1.history['loss'],label='Training Data')\n",
        "plt.plot(history1.history['val_loss'],label='Validation Data')\n",
        "plt.xlabel('Epochs')\n",
        "plt.ylabel('Loss')\n",
        "plt.legend(loc='upper left')\n",
        "plt.show()"
      ],
      "metadata": {
        "colab": {
          "base_uri": "https://localhost:8080/",
          "height": 279
        },
        "id": "liqFAjRLhvDn",
        "outputId": "41abea96-eefa-41e6-b59b-9110e8394cb2"
      },
      "execution_count": null,
      "outputs": [
        {
          "output_type": "display_data",
          "data": {
            "text/plain": [
              "<Figure size 432x288 with 1 Axes>"
            ],
            "image/png": "[encoded data removed]"
          },
          "metadata": {
            "needs_background": "light"
          }
        }
      ]
    },
    {
      "cell_type": "code",
      "source": [
        "plt.plot(history1.history['categorical_accuracy'],label='Training Data')\n",
        "plt.plot(history1.history['val_categorical_accuracy'],label='Validation Data')\n",
        "plt.xlabel('Epochs')\n",
        "plt.ylabel('Accuracy')\n",
        "plt.legend(loc='upper left')\n",
        "plt.show()"
      ],
      "metadata": {
        "colab": {
          "base_uri": "https://localhost:8080/",
          "height": 279
        },
        "id": "8vmg9wYuh_2S",
        "outputId": "1aad0f1c-e466-43c0-db66-25c27d576f10"
      },
      "execution_count": null,
      "outputs": [
        {
          "output_type": "display_data",
          "data": {
            "text/plain": [
              "<Figure size 432x288 with 1 Axes>"
            ],
            "image/png": "[encoded data removed]"
          },
          "metadata": {
            "needs_background": "light"
          }
        }
      ]
    },
    {
      "cell_type": "code",
      "source": [
        "#Testing the model on test data\n",
        "model1.evaluate(test_x,test_y)"
      ],
      "metadata": {
        "colab": {
          "base_uri": "https://localhost:8080/"
        },
        "id": "QX5ajGXviHD0",
        "outputId": "f7102a66-958e-4ea6-ddcc-a8f7a9db86ba"
      },
      "execution_count": null,
      "outputs": [
        {
          "output_type": "stream",
          "name": "stdout",
          "text": [
            "108/108 [==============================] - 1s 6ms/step - loss: 0.8686 - categorical_accuracy: 0.6642\n"
          ]
        },
        {
          "output_type": "execute_result",
          "data": {
            "text/plain": [
              "[0.8685839772224426, 0.6642399430274963]"
            ]
          },
          "metadata": {},
          "execution_count": 33
        }
      ]
    },
    {
      "cell_type": "code",
      "source": [],
      "metadata": {
        "id": "C9mBb244jSqv"
      },
      "execution_count": null,
      "outputs": []
    }
  ]
}