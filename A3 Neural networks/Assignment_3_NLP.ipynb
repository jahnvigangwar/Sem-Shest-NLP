{
  "nbformat": 4,
  "nbformat_minor": 0,
  "metadata": {
    "colab": {
      "provenance": []
    },
    "kernelspec": {
      "name": "python3",
      "display_name": "Python 3"
    },
    "language_info": {
      "name": "python"
    }
  },
  "cells": [
    {
      "cell_type": "markdown",
      "source": [
        "### **Lab Assignment-III (Based on Neural Networks and TensorFlow)**"
      ],
      "metadata": {
        "id": "9TD-Q1HMLw0F"
      }
    },
    {
      "cell_type": "markdown",
      "source": [
        ">> Submitted by: **Jahnvi Gangwar (102003372), CO15**"
      ],
      "metadata": {
        "id": "F8sDMInYL-0V"
      }
    },
    {
      "cell_type": "markdown",
      "source": [
        "# Consider the dataset Fashion MINST available in keras.dataset."
      ],
      "metadata": {
        "id": "R-RavnSTL1Ys"
      }
    },
    {
      "cell_type": "code",
      "execution_count": 1,
      "metadata": {
        "id": "MPI4UXLtHwbS"
      },
      "outputs": [],
      "source": [
        "#Import the tensorflow library\n",
        "import tensorflow as tf"
      ]
    },
    {
      "cell_type": "code",
      "source": [
        "#loaing the MNIST dataset using the tf.keras.datasets.mnist module:\n",
        "(x_train, y_train), (x_test, y_test) = tf.keras.datasets.mnist.load_data()"
      ],
      "metadata": {
        "colab": {
          "base_uri": "https://localhost:8080/"
        },
        "id": "fLhi0eSqH3zt",
        "outputId": "74ff7b04-fa01-472d-d971-6e4462b9b4db"
      },
      "execution_count": 2,
      "outputs": [
        {
          "output_type": "stream",
          "name": "stdout",
          "text": [
            "Downloading data from https://storage.googleapis.com/tensorflow/tf-keras-datasets/mnist.npz\n",
            "11490434/11490434 [==============================] - 0s 0us/step\n"
          ]
        }
      ]
    },
    {
      "cell_type": "markdown",
      "source": [
        "The MNIST dataset consists of 60,000 training images and 10,000 test images. The images are grayscale and are represented as 28x28 pixel arrays. The labels are integers between 0 and 9, corresponding to the digit that the image represents."
      ],
      "metadata": {
        "id": "dxxrPDiZIWhT"
      }
    },
    {
      "cell_type": "code",
      "source": [
        "#matplotlib library to visualize the images and labels:\n",
        "import matplotlib.pyplot as plt\n",
        "\n",
        "# Display the first image in the training set\n",
        "plt.imshow(x_train[0], cmap='gray')\n",
        "plt.show()\n",
        "\n",
        "# Display the corresponding label\n",
        "print(y_train[0])"
      ],
      "metadata": {
        "colab": {
          "base_uri": "https://localhost:8080/",
          "height": 448
        },
        "id": "xbaOYTvMIFYc",
        "outputId": "e0e87629-e2ef-4ee1-b3b8-4a78d83c7bf9"
      },
      "execution_count": 3,
      "outputs": [
        {
          "output_type": "display_data",
          "data": {
            "text/plain": [
              "<Figure size 640x480 with 1 Axes>"
            ],
            "image/png": "[encoded data removed]"
          },
          "metadata": {}
        },
        {
          "output_type": "stream",
          "name": "stdout",
          "text": [
            "5\n"
          ]
        }
      ]
    },
    {
      "cell_type": "markdown",
      "source": [
        "#Question 1: For the dataset, extract the training and testing images belonging to label 0 (T-shirts/tops) and label 1 (trousers)."
      ],
      "metadata": {
        "id": "eM8nid4eIlOO"
      }
    },
    {
      "cell_type": "code",
      "source": [
        "import numpy as np"
      ],
      "metadata": {
        "id": "u04I_2GSIZC9"
      },
      "execution_count": 4,
      "outputs": []
    },
    {
      "cell_type": "code",
      "source": [
        "# Get the indices of the training and testing images belonging to label 0 or 1\n",
        "# logical OR operator (|) to create a boolean mask for the labels\n",
        "# where function to get the indices where the mask is True.\n",
        "train_indices = np.where((y_train == 0) | (y_train == 1))[0]\n",
        "test_indices = np.where((y_test == 0) | (y_test == 1))[0]"
      ],
      "metadata": {
        "id": "Lvq_XJZBIj3p"
      },
      "execution_count": 7,
      "outputs": []
    },
    {
      "cell_type": "code",
      "source": [
        "# Extract the training and testing images belonging to label 0 or 1\n",
        "x_train01 = x_train[train_indices]\n",
        "y_train01 = y_train[train_indices]\n",
        "x_test01 = x_test[test_indices]\n",
        "y_test01 = y_test[test_indices]"
      ],
      "metadata": {
        "id": "LCvPolIYIrl8"
      },
      "execution_count": 8,
      "outputs": []
    },
    {
      "cell_type": "code",
      "source": [
        "# Normalize the pixel values to the range [0, 1]\n",
        "x_train01 = x_train01 / 255.0\n",
        "x_test01 = x_test01 / 255.0"
      ],
      "metadata": {
        "id": "X-dtaFlbIsie"
      },
      "execution_count": 9,
      "outputs": []
    },
    {
      "cell_type": "markdown",
      "source": [
        "#Question 2: Train and evaluate a single layer (single neuron) logistic regression neural network-(step-by-step and using tensorflow)"
      ],
      "metadata": {
        "id": "TBaLdKWlJOR4"
      }
    },
    {
      "cell_type": "code",
      "source": [
        "import tensorflow as tf"
      ],
      "metadata": {
        "id": "4Wog7AFYKTNx"
      },
      "execution_count": 23,
      "outputs": []
    },
    {
      "cell_type": "code",
      "source": [
        "# Define the logistic regression model using the Sequential class in TensorFlow\n",
        "model = tf.keras.models.Sequential([\n",
        "    tf.keras.layers.Flatten(input_shape=(28, 28)),  # Flatten the input image to a 1D array\n",
        "    tf.keras.layers.Dense(1, activation='sigmoid')  # Use a single neuron with a sigmoid activation function\n",
        "])"
      ],
      "metadata": {
        "id": "qpTIxeIFKhdi"
      },
      "execution_count": 14,
      "outputs": []
    },
    {
      "cell_type": "code",
      "source": [
        "# Compile the model using binary cross-entropy as the loss function, Adam as the optimizer, and accuracy as the metric to evaluate the model.\n",
        "model.compile(loss='binary_crossentropy', optimizer='adam', metrics=['accuracy'])"
      ],
      "metadata": {
        "id": "iYVdDTn4KjXm"
      },
      "execution_count": 15,
      "outputs": []
    },
    {
      "cell_type": "code",
      "source": [
        "# Train the model\n",
        "model.fit(x_train01, y_train01, batch_size=32, epochs=10, validation_data=(x_test01, y_test01))"
      ],
      "metadata": {
        "colab": {
          "base_uri": "https://localhost:8080/"
        },
        "id": "8QtxRlD_KmK9",
        "outputId": "f390bf55-a380-4db6-f9d1-69d273bc36ed"
      },
      "execution_count": 16,
      "outputs": [
        {
          "output_type": "stream",
          "name": "stdout",
          "text": [
            "Epoch 1/10\n",
            "396/396 [==============================] - 2s 3ms/step - loss: 0.7786 - accuracy: 0.9829 - val_loss: 0.0990 - val_accuracy: 0.9962\n",
            "Epoch 2/10\n",
            "396/396 [==============================] - 1s 3ms/step - loss: 0.0844 - accuracy: 0.9974 - val_loss: 0.0999 - val_accuracy: 0.9976\n",
            "Epoch 3/10\n",
            "396/396 [==============================] - 1s 2ms/step - loss: 0.0731 - accuracy: 0.9979 - val_loss: 0.0207 - val_accuracy: 0.9995\n",
            "Epoch 4/10\n",
            "396/396 [==============================] - 1s 4ms/step - loss: 0.0467 - accuracy: 0.9984 - val_loss: 0.0458 - val_accuracy: 0.9991\n",
            "Epoch 5/10\n",
            "396/396 [==============================] - 1s 2ms/step - loss: 0.0328 - accuracy: 0.9987 - val_loss: 0.0989 - val_accuracy: 0.9981\n",
            "Epoch 6/10\n",
            "396/396 [==============================] - 1s 2ms/step - loss: 0.0145 - accuracy: 0.9994 - val_loss: 0.0838 - val_accuracy: 0.9991\n",
            "Epoch 7/10\n",
            "396/396 [==============================] - 1s 2ms/step - loss: 0.0212 - accuracy: 0.9991 - val_loss: 0.0400 - val_accuracy: 0.9995\n",
            "Epoch 8/10\n",
            "396/396 [==============================] - 1s 2ms/step - loss: 0.0608 - accuracy: 0.9984 - val_loss: 0.0747 - val_accuracy: 0.9995\n",
            "Epoch 9/10\n",
            "396/396 [==============================] - 1s 3ms/step - loss: 0.0256 - accuracy: 0.9993 - val_loss: 0.0957 - val_accuracy: 0.9995\n",
            "Epoch 10/10\n",
            "396/396 [==============================] - 1s 3ms/step - loss: 0.0248 - accuracy: 0.9993 - val_loss: 0.0239 - val_accuracy: 0.9995\n"
          ]
        },
        {
          "output_type": "execute_result",
          "data": {
            "text/plain": [
              "<keras.callbacks.History at 0x7fbb257f2430>"
            ]
          },
          "metadata": {},
          "execution_count": 16
        }
      ]
    },
    {
      "cell_type": "code",
      "source": [
        "# Evaluate the model\n",
        "loss, accuracy = model.evaluate(x_test01, y_test01)\n",
        "print('Test loss:', loss)\n",
        "print('Test accuracy:', accuracy)"
      ],
      "metadata": {
        "colab": {
          "base_uri": "https://localhost:8080/"
        },
        "id": "IIXEedxOKoUa",
        "outputId": "51bbdcf0-a186-4958-f7fc-43ba38eb6e83"
      },
      "execution_count": 17,
      "outputs": [
        {
          "output_type": "stream",
          "name": "stdout",
          "text": [
            "67/67 [==============================] - 0s 4ms/step - loss: 0.0239 - accuracy: 0.9995\n",
            "Test loss: 0.02386639453470707\n",
            "Test accuracy: 0.9995272159576416\n"
          ]
        }
      ]
    },
    {
      "cell_type": "markdown",
      "source": [
        "#Question 3: Train and evaluate a complex neural network containing two hidden layers each with 100 neurons using tensorflow."
      ],
      "metadata": {
        "id": "ddpY-0jSK1CS"
      }
    },
    {
      "cell_type": "code",
      "source": [
        "import tensorflow as tf"
      ],
      "metadata": {
        "id": "oFQhIlusKpLz"
      },
      "execution_count": 18,
      "outputs": []
    },
    {
      "cell_type": "code",
      "source": [
        "# Define the complex neural network\n",
        "model = tf.keras.models.Sequential([\n",
        "    tf.keras.layers.Flatten(input_shape=(28, 28)),\n",
        "    tf.keras.layers.Dense(100, activation='relu'),  # First hidden layer with 100 neurons and ReLU activation function\n",
        "    tf.keras.layers.Dense(100, activation='relu'),  # Second hidden layer with 100 neurons and ReLU activation function\n",
        "    tf.keras.layers.Dense(1, activation='sigmoid')  # Output layer with a single neuron and sigmoid activation function\n",
        "])"
      ],
      "metadata": {
        "id": "3keoGvDnLLQu"
      },
      "execution_count": 19,
      "outputs": []
    },
    {
      "cell_type": "code",
      "source": [
        "# Compile the model\n",
        "model.compile(loss='binary_crossentropy', optimizer='adam', metrics=['accuracy'])"
      ],
      "metadata": {
        "id": "bMQ6S-NzLNbh"
      },
      "execution_count": 20,
      "outputs": []
    },
    {
      "cell_type": "code",
      "source": [
        "# Train the model\n",
        "model.fit(x_train01, y_train01, batch_size=32, epochs=10, validation_data=(x_test01, y_test01))"
      ],
      "metadata": {
        "colab": {
          "base_uri": "https://localhost:8080/"
        },
        "id": "J-z3o3PcLPWM",
        "outputId": "18de5c5a-6f24-4a4c-d039-cc657059e6a9"
      },
      "execution_count": 21,
      "outputs": [
        {
          "output_type": "stream",
          "name": "stdout",
          "text": [
            "Epoch 1/10\n",
            "396/396 [==============================] - 3s 5ms/step - loss: 0.2908 - accuracy: 0.9939 - val_loss: 0.0851 - val_accuracy: 0.9986\n",
            "Epoch 2/10\n",
            "396/396 [==============================] - 2s 4ms/step - loss: 0.0700 - accuracy: 0.9983 - val_loss: 0.0165 - val_accuracy: 0.9995\n",
            "Epoch 3/10\n",
            "396/396 [==============================] - 3s 7ms/step - loss: 0.0592 - accuracy: 0.9985 - val_loss: 0.0026 - val_accuracy: 0.9995\n",
            "Epoch 4/10\n",
            "396/396 [==============================] - 2s 4ms/step - loss: 0.0069 - accuracy: 0.9996 - val_loss: 0.0255 - val_accuracy: 0.9991\n",
            "Epoch 5/10\n",
            "396/396 [==============================] - 2s 4ms/step - loss: 0.0236 - accuracy: 0.9995 - val_loss: 0.0744 - val_accuracy: 0.9986\n",
            "Epoch 6/10\n",
            "396/396 [==============================] - 2s 4ms/step - loss: 0.0343 - accuracy: 0.9991 - val_loss: 0.0461 - val_accuracy: 0.9991\n",
            "Epoch 7/10\n",
            "396/396 [==============================] - 2s 4ms/step - loss: 0.0365 - accuracy: 0.9991 - val_loss: 0.0098 - val_accuracy: 0.9995\n",
            "Epoch 8/10\n",
            "396/396 [==============================] - 2s 4ms/step - loss: 0.0435 - accuracy: 0.9994 - val_loss: 0.0146 - val_accuracy: 0.9995\n",
            "Epoch 9/10\n",
            "396/396 [==============================] - 2s 4ms/step - loss: 0.0370 - accuracy: 0.9991 - val_loss: 0.0423 - val_accuracy: 0.9981\n",
            "Epoch 10/10\n",
            "396/396 [==============================] - 3s 7ms/step - loss: 0.0149 - accuracy: 0.9994 - val_loss: 1.9278e-10 - val_accuracy: 1.0000\n"
          ]
        },
        {
          "output_type": "execute_result",
          "data": {
            "text/plain": [
              "<keras.callbacks.History at 0x7fbb25fe8fa0>"
            ]
          },
          "metadata": {},
          "execution_count": 21
        }
      ]
    },
    {
      "cell_type": "code",
      "source": [
        "# Evaluate the model\n",
        "loss, accuracy = model.evaluate(x_test01, y_test01)\n",
        "print('Test loss:', loss)\n",
        "print('Test accuracy:', accuracy)"
      ],
      "metadata": {
        "colab": {
          "base_uri": "https://localhost:8080/"
        },
        "id": "S7-SQiZhLQ7B",
        "outputId": "f5a02d4f-b4c0-4cf1-8a5d-050e720e4673"
      },
      "execution_count": 22,
      "outputs": [
        {
          "output_type": "stream",
          "name": "stdout",
          "text": [
            "67/67 [==============================] - 0s 5ms/step - loss: 1.9278e-10 - accuracy: 1.0000\n",
            "Test loss: 1.927797088630001e-10\n",
            "Test accuracy: 1.0\n"
          ]
        }
      ]
    }
  ]
}