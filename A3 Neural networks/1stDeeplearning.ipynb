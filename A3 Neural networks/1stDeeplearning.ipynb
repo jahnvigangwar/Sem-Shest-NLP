{
  "nbformat": 4,
  "nbformat_minor": 0,
  "metadata": {
    "colab": {
      "provenance": []
    },
    "kernelspec": {
      "name": "python3",
      "display_name": "Python 3"
    },
    "language_info": {
      "name": "python"
    }
  },
  "cells": [
    {
      "cell_type": "code",
      "execution_count": null,
      "metadata": {
        "id": "RJMIeDR7btTD"
      },
      "outputs": [],
      "source": []
    },
    {
      "cell_type": "code",
      "source": [
        "from google.colab import drive\n",
        "drive.mount('/content/drive')"
      ],
      "metadata": {
        "colab": {
          "base_uri": "https://localhost:8080/"
        },
        "id": "rt_3aZd27bor",
        "outputId": "9350c35e-62e6-4cc7-e300-06b0ba6142e5"
      },
      "execution_count": null,
      "outputs": [
        {
          "output_type": "stream",
          "name": "stdout",
          "text": [
            "Drive already mounted at /content/drive; to attempt to forcibly remount, call drive.mount(\"/content/drive\", force_remount=True).\n"
          ]
        }
      ]
    },
    {
      "cell_type": "code",
      "source": [
        "train_path1= '/content/drive/MyDrive/Dataset/image_dataset/train/Airplanes/'\n",
        "train_path2= '/content/drive/MyDrive/Dataset/image_dataset/train/Bikes/'\n",
        "test_path1= '/content/drive/MyDrive/Dataset/image_dataset/test/Airplanes/'\n",
        "test_path2= '/content/drive/MyDrive/Dataset/image_dataset/test/Bikes/'\n"
      ],
      "metadata": {
        "id": "pOc5Klsrbyfc"
      },
      "execution_count": null,
      "outputs": []
    },
    {
      "cell_type": "code",
      "source": [
        "import numpy as np\n",
        "train_x=np.zeros((12288,1500))\n",
        "train_y= np.zeros((1, 1500))\n",
        "test_x= np.zeros((12288, 98))\n",
        "test_y= np.zeros((1, 98))"
      ],
      "metadata": {
        "id": "yyM_K__Y8tz3"
      },
      "execution_count": null,
      "outputs": []
    },
    {
      "cell_type": "code",
      "source": [
        "import os\n",
        "from tensorflow.keras.preprocessing import image\n",
        "train_files1= os.listdir(train_path1)\n",
        "train_files2= os.listdir(train_path2)\n",
        "for i in range (len(train_files1)):\n",
        "  img= image.load_img(train_path1+train_files1[i], target_size= (64, 64))\n",
        "  arr= np.array(img)\n",
        "  arr=arr.flatten()\n",
        "  train_x[:,i]= arr\n",
        "  train_y[0, i]=0\n",
        "for i in range (len(train_files2)):\n",
        "  img= image.load_img(train_path1+train_files2[i], target_size= (64, 64))\n",
        "  arr= np.array(img)\n",
        "  arr=arr.flatten()\n",
        "  train_x[:,i+750]= arr\n",
        "  train_y[0, i+750]=1\n"
      ],
      "metadata": {
        "id": "2gKa4muV9eLC"
      },
      "execution_count": null,
      "outputs": []
    },
    {
      "cell_type": "code",
      "source": [
        "import os\n",
        "from tensorflow.keras.preprocessing import image\n",
        "test_files1= os.listdir(test_path1)\n",
        "test_files2= os.listdir(test_path2)\n",
        "for i in range (len(test_files1)):\n",
        "  img= image.load_img(test_path1+test_files1[i], target_size= (64, 64))\n",
        "  arr= np.array(img)\n",
        "  arr=arr.flatten()\n",
        "  test_x[:,i]= arr\n",
        "  test_y[0, i]=0\n",
        "for i in range (len(test_files2)):\n",
        "  img= image.load_img(test_path1+test_files2[i], target_size= (64, 64))\n",
        "  arr= np.array(img)\n",
        "  arr=arr.flatten()\n",
        "  test_x[:,i+50]= arr\n",
        "  test_y[0, i+50]=1"
      ],
      "metadata": {
        "id": "Y9pDmzH0Duf9"
      },
      "execution_count": null,
      "outputs": []
    },
    {
      "cell_type": "code",
      "source": [
        "train_x= train_x/255.0\n",
        "test_x= test_x/255.0"
      ],
      "metadata": {
        "id": "r-QLYiuqD2-L"
      },
      "execution_count": null,
      "outputs": []
    },
    {
      "cell_type": "code",
      "source": [
        "def sigmoid(z):\n",
        "  return 1/(1+np.exp(-z))"
      ],
      "metadata": {
        "id": "1kHCrXwTNuUt"
      },
      "execution_count": null,
      "outputs": []
    },
    {
      "cell_type": "code",
      "source": [
        "def init_params(dimension):\n",
        "  w=np.zeros((dimension, 1))\n",
        "  b=0\n",
        "  return w, b"
      ],
      "metadata": {
        "id": "F-c68A2MN7JV"
      },
      "execution_count": null,
      "outputs": []
    },
    {
      "cell_type": "code",
      "source": [
        "def propagate(w, b, X, Y):\n",
        "  n=X.shape[1]\n",
        "  #forward pass\n",
        "  predicted= sigmoid(np.dot(w.T,X)+b)\n",
        "  cost= (-1/n)*np.sum(np.multiply(Y, np.log(predicted))+ np.multiply((1-Y), np.log(1-predicted)))\n",
        "  #backword pass\n",
        "  dw= (1/n)*np.dot(X, (predicted-Y).T)\n",
        "  db= (1/n)*np.sum(predicted-Y)\n",
        "  grads= {\"dw\": dw, \"db\": db}\n",
        "  cost= np.squeeze(cost)\n",
        "  return grads, cost"
      ],
      "metadata": {
        "id": "syCXWsejOB5z"
      },
      "execution_count": null,
      "outputs": []
    },
    {
      "cell_type": "code",
      "source": [
        "def train(w, b, X, Y, epochs, lr):\n",
        "  costs=[]\n",
        "  for i in range(epochs):\n",
        "    grads, cost=propagate(w, b, X, Y)\n",
        "    dw= grads['dw']\n",
        "    db= grads['db']\n",
        "    \n",
        "    w=w-lr*dw\n",
        "    b=b-lr*db\n",
        "    if i%10==0:\n",
        "      costs.append(cost)\n",
        "      print(\"cost after %i iteration: %f\" %(i, cost))\n",
        "  params = {\"w\": w, \"b\":b}\n",
        "  return params, costs"
      ],
      "metadata": {
        "id": "6Iqsca3GP1m9"
      },
      "execution_count": null,
      "outputs": []
    },
    {
      "cell_type": "code",
      "source": [
        "def predict (w, b, X):\n",
        "  A=sigmoid(np.dot(w.T,X)+b)\n",
        "  Y_predict= np. zeros((1, X.shape[1]))\n",
        "  for i in range (len(A)):\n",
        "    if (A[0, i]>0.5):\n",
        "      Y_predict[0, i]=1\n",
        "    else:\n",
        "      Y_predict[0, i]=0\n",
        "        \n",
        "  return Y_predict\n"
      ],
      "metadata": {
        "id": "Z2WzQGuKRi5I"
      },
      "execution_count": null,
      "outputs": []
    },
    {
      "cell_type": "code",
      "source": [
        "def model(X_train, Y_train, X_test, Y_test, epochs, lr):\n",
        "  w, b= init_params(X_train.shape[0])\n",
        "  params, costs= train(w, b, X_train, Y_train, epochs, lr)\n",
        "  w=params['w']\n",
        "  b=params['b']\n",
        "  Y_test_predicted= predict(w, b, X_test)\n",
        "  print(\"test_accuracy : %\".format(100-np.mean(np.abs(Y_test_predicted- Y_test))*100))"
      ],
      "metadata": {
        "id": "7r5xkVs-h7Iz"
      },
      "execution_count": null,
      "outputs": []
    },
    {
      "cell_type": "code",
      "source": [
        "model(train_x, train_y, test_x, test_y, 100, .001)"
      ],
      "metadata": {
        "colab": {
          "base_uri": "https://localhost:8080/"
        },
        "id": "CgYSvCUejNq6",
        "outputId": "dabe78af-2da8-47fe-eeb5-46a6d35756a6"
      },
      "execution_count": null,
      "outputs": [
        {
          "output_type": "stream",
          "name": "stdout",
          "text": [
            "cost after 0 iteration: 0.693147\n"
          ]
        },
        {
          "output_type": "stream",
          "name": "stderr",
          "text": [
            "<ipython-input-75-458268023ed2>:5: RuntimeWarning: divide by zero encountered in log\n",
            "  cost= (-1/n)*np.sum(np.multiply(Y, np.log(predicted))+ np.multiply((1-Y), np.log(1-predicted)))\n",
            "<ipython-input-75-458268023ed2>:5: RuntimeWarning: invalid value encountered in multiply\n",
            "  cost= (-1/n)*np.sum(np.multiply(Y, np.log(predicted))+ np.multiply((1-Y), np.log(1-predicted)))\n",
            "<ipython-input-73-36c2be795127>:2: RuntimeWarning: overflow encountered in exp\n",
            "  return 1/(1+np.exp(-z))\n"
          ]
        },
        {
          "output_type": "stream",
          "name": "stdout",
          "text": [
            "cost after 10 iteration: nan\n",
            "cost after 20 iteration: nan\n",
            "cost after 30 iteration: nan\n",
            "cost after 40 iteration: nan\n",
            "cost after 50 iteration: nan\n",
            "cost after 60 iteration: nan\n",
            "cost after 70 iteration: nan\n",
            "cost after 80 iteration: nan\n",
            "cost after 90 iteration: nan\n",
            "test_accuracy : %\n"
          ]
        }
      ]
    },
    {
      "cell_type": "code",
      "source": [],
      "metadata": {
        "id": "CTF6RjxYjgvz"
      },
      "execution_count": null,
      "outputs": []
    }
  ]
}